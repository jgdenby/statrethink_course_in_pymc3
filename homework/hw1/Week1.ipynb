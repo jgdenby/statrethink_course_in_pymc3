{
 "cells": [
  {
   "cell_type": "code",
   "execution_count": null,
   "metadata": {},
   "outputs": [],
   "source": [
    "import pandas as pd\n",
    "import numpy as np\n",
    "import pymc3 as pm\n",
    "from random import choices\n",
    "from scipy import stats\n",
    "\n",
    "import plotly.express as px\n",
    "import plotly.graph_objects as go"
   ]
  },
  {
   "cell_type": "markdown",
   "metadata": {
    "heading_collapsed": true
   },
   "source": [
    "## Intro"
   ]
  },
  {
   "cell_type": "markdown",
   "metadata": {
    "hidden": true
   },
   "source": [
    "Playing with lecture/book globe throwing example:"
   ]
  },
  {
   "cell_type": "code",
   "execution_count": null,
   "metadata": {
    "hidden": true
   },
   "outputs": [],
   "source": [
    "n = 9 # number of total throws\n",
    "k = 6 # number of 'water' hits\n",
    "p = 0.7 # proportion of water"
   ]
  },
  {
   "cell_type": "code",
   "execution_count": null,
   "metadata": {
    "hidden": true
   },
   "outputs": [],
   "source": [
    "# given above parameters, generate samples from the binomial distribution\n",
    "np.random.binomial(1, p, n)"
   ]
  },
  {
   "cell_type": "code",
   "execution_count": null,
   "metadata": {
    "hidden": true
   },
   "outputs": [],
   "source": [
    "# density function gives likelihood of k hits in n throws under prob p\n",
    "stats.binom.pmf(k, n, p)"
   ]
  },
  {
   "cell_type": "markdown",
   "metadata": {
    "hidden": true
   },
   "source": [
    "Grid approximation:"
   ]
  },
  {
   "cell_type": "code",
   "execution_count": null,
   "metadata": {
    "hidden": true
   },
   "outputs": [],
   "source": [
    "# define how many points to evaluation in the space for p\n",
    "grid_points = 100\n",
    "grid_p = np.linspace(0, 1, grid_points)"
   ]
  },
  {
   "cell_type": "code",
   "execution_count": null,
   "metadata": {
    "hidden": true
   },
   "outputs": [],
   "source": [
    "# define prior for the grid values(uniform in this case)\n",
    "prior = np.ones(grid_points)"
   ]
  },
  {
   "cell_type": "code",
   "execution_count": null,
   "metadata": {
    "hidden": true
   },
   "outputs": [],
   "source": [
    "# compute likelihood for each grid value\n",
    "# likelihood of getting k hits in n throws for grid values of p\n",
    "grid_lik = stats.binom.pmf(k, n, grid_p)"
   ]
  },
  {
   "cell_type": "code",
   "execution_count": null,
   "metadata": {
    "hidden": true
   },
   "outputs": [],
   "source": [
    "# compute unstandardized posterior for each grid val\n",
    "# (equal to likelihood here due to uniform prior)\n",
    "grid_unstd_post = grid_lik * prior"
   ]
  },
  {
   "cell_type": "code",
   "execution_count": null,
   "metadata": {
    "hidden": true
   },
   "outputs": [],
   "source": [
    "# standardize posterior by dividing by the sum (normalize)\n",
    "grid_post = grid_unstd_post/grid_unstd_post.sum()"
   ]
  },
  {
   "cell_type": "code",
   "execution_count": null,
   "metadata": {
    "hidden": true
   },
   "outputs": [],
   "source": [
    "# plot grid approximation of posterior distribution\n",
    "fig = go.Figure(\n",
    "    data=go.Scatter(x=grid_p, y=grid_post)\n",
    ")\n",
    "\n",
    "fig.update_layout(\n",
    "    title=go.layout.Title(\n",
    "        text=f\"n = {grid_points}\"\n",
    "    ),\n",
    "    xaxis=go.layout.XAxis(\n",
    "        title=go.layout.xaxis.Title(\n",
    "            text=\"probability of water\",\n",
    "        )\n",
    "    ),\n",
    "    yaxis=go.layout.YAxis(\n",
    "        title=go.layout.yaxis.Title(\n",
    "            text=\"posterior probability\",\n",
    "        )\n",
    "    )\n",
    ")\n",
    "fig.show()"
   ]
  },
  {
   "cell_type": "code",
   "execution_count": null,
   "metadata": {
    "hidden": true
   },
   "outputs": [],
   "source": [
    "# we can sample from this posterior too\n",
    "n_picks = 5000\n",
    "samples = np.random.choice(grid_p, n_picks, p = grid_post)"
   ]
  },
  {
   "cell_type": "code",
   "execution_count": null,
   "metadata": {
    "hidden": true
   },
   "outputs": [],
   "source": [
    "fig = go.Figure()\n",
    "\n",
    "fig.add_trace(\n",
    "    go.Scatter(\n",
    "        x = np.arange(0, n_picks),\n",
    "        y = samples,\n",
    "        mode = 'markers'\n",
    "    )\n",
    ")\n",
    "\n",
    "fig.show()\n"
   ]
  },
  {
   "cell_type": "code",
   "execution_count": null,
   "metadata": {
    "hidden": true
   },
   "outputs": [],
   "source": [
    "fig = go.Figure()\n",
    "\n",
    "fig.add_trace(\n",
    "    go.Histogram(\n",
    "        x = samples\n",
    "    )\n",
    ")"
   ]
  },
  {
   "cell_type": "markdown",
   "metadata": {
    "hidden": true
   },
   "source": [
    "Defined Boundary Intervals:"
   ]
  },
  {
   "cell_type": "code",
   "execution_count": null,
   "metadata": {
    "hidden": true
   },
   "outputs": [],
   "source": [
    "# What is the posterior probability that less than 50% of the earth is covered with water?\n",
    "sum(samples<.5) / n_picks"
   ]
  },
  {
   "cell_type": "code",
   "execution_count": null,
   "metadata": {
    "hidden": true
   },
   "outputs": [],
   "source": [
    "# What is the posterior probability that between 50 and 75% of the earth is covered with water?\n",
    "sum((samples > .5) & (samples < .75)) / n_picks"
   ]
  },
  {
   "cell_type": "markdown",
   "metadata": {
    "hidden": true
   },
   "source": [
    "Intervals of Defined Mass (Compatibility Intervals):"
   ]
  },
  {
   "cell_type": "code",
   "execution_count": null,
   "metadata": {
    "hidden": true
   },
   "outputs": [],
   "source": [
    "# What is the bottom 80% interval of the posterior?\n",
    "pm.stats.quantiles(samples, qlist = [80])"
   ]
  },
  {
   "cell_type": "markdown",
   "metadata": {
    "hidden": true
   },
   "source": [
    "__Percentile Intervals__ assign equal probability mass to each tail"
   ]
  },
  {
   "cell_type": "code",
   "execution_count": null,
   "metadata": {
    "hidden": true
   },
   "outputs": [],
   "source": [
    "# What is the middle 80% interval of the posterior?\n",
    "pm.stats.quantiles(samples, qlist = [10, 90])"
   ]
  },
  {
   "cell_type": "markdown",
   "metadata": {
    "hidden": true
   },
   "source": [
    "__Highest Posterior Density Interval__ computes narrowest interval containing the specified probability mass. Better suited for highly asymmetrical distributions."
   ]
  },
  {
   "cell_type": "code",
   "execution_count": null,
   "metadata": {
    "hidden": true
   },
   "outputs": [],
   "source": [
    "# What is the densest 80% interval of the posterior?\n",
    "pm.stats.hpd(samples, alpha = .2)"
   ]
  },
  {
   "cell_type": "markdown",
   "metadata": {
    "heading_collapsed": true
   },
   "source": [
    "## 1"
   ]
  },
  {
   "cell_type": "markdown",
   "metadata": {
    "hidden": true
   },
   "source": [
    "> 1. Suppose the globe tossing data had turned out to be 8 water in 15 tosses.  \n",
    "Construct the posterior distribution, using grid approximation. Use the same flat prior as before."
   ]
  },
  {
   "cell_type": "code",
   "execution_count": null,
   "metadata": {
    "hidden": true
   },
   "outputs": [],
   "source": [
    "n = 15 # tosses\n",
    "k = 8 # waters"
   ]
  },
  {
   "cell_type": "code",
   "execution_count": null,
   "metadata": {
    "hidden": true
   },
   "outputs": [],
   "source": [
    "n_grid = 1000\n",
    "grid_p = np.linspace(0, 1, n_grid) # p grid points\n",
    "grid_prior = np.ones(n_grid) # flat prior\n",
    "grid_lik = stats.binom.pmf(k, n, grid_p) #likelihood"
   ]
  },
  {
   "cell_type": "code",
   "execution_count": null,
   "metadata": {
    "hidden": true
   },
   "outputs": [],
   "source": [
    "posterior = (grid_lik * grid_prior)\n",
    "posterior = posterior/posterior.sum()"
   ]
  },
  {
   "cell_type": "code",
   "execution_count": null,
   "metadata": {
    "hidden": true
   },
   "outputs": [],
   "source": [
    "# plot grid approximation of posterior distribution\n",
    "fig = go.Figure(\n",
    "    data=go.Scatter(x=grid_p, y=posterior)\n",
    ")\n",
    "\n",
    "fig.update_layout(\n",
    "    title=go.layout.Title(\n",
    "        text=f\"n = {n_grid}\"\n",
    "    ),\n",
    "    xaxis=go.layout.XAxis(\n",
    "        title=go.layout.xaxis.Title(\n",
    "            text=\"probability of water\",\n",
    "        )\n",
    "    ),\n",
    "    yaxis=go.layout.YAxis(\n",
    "        title=go.layout.yaxis.Title(\n",
    "            text=\"posterior probability\",\n",
    "        )\n",
    "    )\n",
    ")\n",
    "fig.show()"
   ]
  },
  {
   "cell_type": "markdown",
   "metadata": {
    "hidden": true
   },
   "source": [
    "The posterior is pretty normal, centered around $p=.5$"
   ]
  },
  {
   "cell_type": "markdown",
   "metadata": {
    "heading_collapsed": true
   },
   "source": [
    "# 2"
   ]
  },
  {
   "cell_type": "markdown",
   "metadata": {
    "hidden": true
   },
   "source": [
    "> Start over in $1$, but now use a prior that is zero below $p = 0.5$ and a constant above $p = 0.5$. This corresponds to prior information that a majority of the Earth’s surface is water. What difference does the better prior make? If it helps, compare posterior distributions (using both priors) to the true value $p = 0.7$."
   ]
  },
  {
   "cell_type": "code",
   "execution_count": null,
   "metadata": {
    "hidden": true
   },
   "outputs": [],
   "source": [
    "n = 15\n",
    "k = 8"
   ]
  },
  {
   "cell_type": "code",
   "execution_count": null,
   "metadata": {
    "hidden": true
   },
   "outputs": [],
   "source": [
    "n_grid = 1000\n",
    "grid_p = np.linspace(0, 1, n_grid)\n",
    "grid_prior = np.where(grid_p < .5, 0, 1)"
   ]
  },
  {
   "cell_type": "code",
   "execution_count": null,
   "metadata": {
    "hidden": true
   },
   "outputs": [],
   "source": [
    "grid_lik = stats.binom.pmf(k, n, grid_p)\n",
    "posterior2 = grid_lik * grid_prior\n",
    "posterior2 = posterior2 / posterior2.sum()"
   ]
  },
  {
   "cell_type": "code",
   "execution_count": null,
   "metadata": {
    "hidden": true
   },
   "outputs": [],
   "source": [
    "# plot grid approximation of posterior distribution\n",
    "fig = go.Figure()\n",
    "\n",
    "fig.add_trace(\n",
    "    go.Scatter(\n",
    "        x = grid_p, y = posterior\n",
    "    )\n",
    ")\n",
    "\n",
    "\n",
    "fig.add_trace(\n",
    "    go.Scatter(\n",
    "        x = grid_p, y = posterior2\n",
    "    )\n",
    ")\n",
    "\n",
    "fig.update_layout(\n",
    "    title=go.layout.Title(\n",
    "        text=f\"n = {n_grid}\"\n",
    "    ),\n",
    "    xaxis=go.layout.XAxis(\n",
    "        title=go.layout.xaxis.Title(\n",
    "            text=\"probability of water\",\n",
    "        )\n",
    "    ),\n",
    "    yaxis=go.layout.YAxis(\n",
    "        title=go.layout.yaxis.Title(\n",
    "            text=\"posterior probability\",\n",
    "        )\n",
    "    ),\n",
    "    shapes=[\n",
    "        # Line Vertical\n",
    "        go.layout.Shape(\n",
    "            type=\"line\",\n",
    "            x0=.7,\n",
    "            x1 = .7,\n",
    "            y0 = 0,\n",
    "            y1 = .006,\n",
    "            line=dict(\n",
    "                color=\"green\",\n",
    "                width=1,\n",
    "                dash = 'dash'\n",
    "            )\n",
    "        ),\n",
    "    ]\n",
    ")\n",
    "fig.show()"
   ]
  },
  {
   "cell_type": "markdown",
   "metadata": {
    "hidden": true
   },
   "source": [
    "As we would expect, a truncated prior leads to a truncated posterior. But plotting the two posteriors together reveals that inference leads to a spikier distribution for the truncated prior."
   ]
  },
  {
   "cell_type": "code",
   "execution_count": null,
   "metadata": {
    "hidden": true
   },
   "outputs": [],
   "source": [
    "print(np.mean(np.random.choice(grid_p, 1000, p = posterior)))\n",
    "print(np.mean(np.random.choice(grid_p, 1000, p = posterior2)))"
   ]
  },
  {
   "cell_type": "markdown",
   "metadata": {
    "hidden": true
   },
   "source": [
    "The posterior mean for the second distribution (with the informed prior) yields a result closer to the 'true' value of $p=.7$, indicating that the truncated prior indeed produces more accurate inference."
   ]
  },
  {
   "cell_type": "markdown",
   "metadata": {
    "heading_collapsed": true
   },
   "source": [
    "# 3"
   ]
  },
  {
   "cell_type": "markdown",
   "metadata": {
    "hidden": true
   },
   "source": [
    "> This problem is more open-ended than the others. Feel free to collaborate on the solution. Suppose you want to estimate the Earth's proportion of water very precisely. Specifically, you want the 99% percentile interval of the posterior distribution of $p$ to be only $0.05$ wide. This means the distance between the upper and lower bound of the interval should be $0.05$. How many times will you have to toss the globe to do this? I won’t require a precise answer. I’m honestly more interested in your approach."
   ]
  },
  {
   "cell_type": "markdown",
   "metadata": {
    "hidden": true
   },
   "source": [
    "We can iterate through a bunch of tosses and assess the 99% interval width to get a sense of the scale:"
   ]
  },
  {
   "cell_type": "code",
   "execution_count": null,
   "metadata": {
    "hidden": true
   },
   "outputs": [],
   "source": [
    "p = .7 # to generate data\n",
    "n_grid = 1000\n",
    "post_samples = 5000\n",
    "n_vals = [50, 100, 200, 500, 1000, 1500, 2000, 2500, 3000, 5000]\n",
    "intervals = np.zeros([len(n_vals), 2])\n",
    "\n",
    "for i, n in enumerate(n_vals):\n",
    "    # sample to get data\n",
    "    k = np.random.binomial(n, p)\n",
    "    \n",
    "    # grid approx\n",
    "    grid_p = np.linspace(0, 1, n_grid)\n",
    "    grid_prior = np.ones(n_grid)\n",
    "    grid_lik = stats.binom.pmf(k, n, p = grid_p)\n",
    "    posterior = grid_prior * grid_lik\n",
    "    posterior = posterior / posterior.sum()\n",
    "    \n",
    "    # sample from posterior\n",
    "    samples = np.random.choice(grid_p, post_samples, p = posterior)\n",
    "    \n",
    "    # 99% interval\n",
    "    intervals[i] = pm.stats.hpd(samples, alpha = .01)\n",
    "\n",
    "res = pd.DataFrame(intervals, index = n_vals)\n",
    "res['width'] = res[1] - res[0]\n",
    "res\n",
    "    "
   ]
  },
  {
   "cell_type": "markdown",
   "metadata": {
    "hidden": true
   },
   "source": [
    "Somewhere between 2000 and 2500 tosses of the globe will produce a posterior where the 99% percentile interval is smaller than .05."
   ]
  }
 ],
 "metadata": {
  "kernelspec": {
   "display_name": "Python 3",
   "language": "python",
   "name": "python3"
  },
  "language_info": {
   "codemirror_mode": {
    "name": "ipython",
    "version": 3
   },
   "file_extension": ".py",
   "mimetype": "text/x-python",
   "name": "python",
   "nbconvert_exporter": "python",
   "pygments_lexer": "ipython3",
   "version": "3.7.4"
  },
  "varInspector": {
   "cols": {
    "lenName": 16,
    "lenType": 16,
    "lenVar": 40
   },
   "kernels_config": {
    "python": {
     "delete_cmd_postfix": "",
     "delete_cmd_prefix": "del ",
     "library": "var_list.py",
     "varRefreshCmd": "print(var_dic_list())"
    },
    "r": {
     "delete_cmd_postfix": ") ",
     "delete_cmd_prefix": "rm(",
     "library": "var_list.r",
     "varRefreshCmd": "cat(var_dic_list()) "
    }
   },
   "types_to_exclude": [
    "module",
    "function",
    "builtin_function_or_method",
    "instance",
    "_Feature"
   ],
   "window_display": false
  }
 },
 "nbformat": 4,
 "nbformat_minor": 2
}
