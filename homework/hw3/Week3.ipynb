{
 "cells": [
  {
   "cell_type": "code",
   "execution_count": null,
   "metadata": {},
   "outputs": [],
   "source": [
    "import pandas as pd\n",
    "import numpy as np\n",
    "import pymc3 as pm\n",
    "import theano\n",
    "from scipy import stats\n",
    "from sklearn import preprocessing\n",
    "\n",
    "import plotly.graph_objects as go"
   ]
  },
  {
   "cell_type": "code",
   "execution_count": null,
   "metadata": {},
   "outputs": [],
   "source": [
    "foxes = pd.read_csv('../../data/foxes.csv', sep=';', header=0)\n",
    "foxes.head()"
   ]
  },
  {
   "cell_type": "markdown",
   "metadata": {},
   "source": [
    "# 1"
   ]
  },
  {
   "cell_type": "markdown",
   "metadata": {},
   "source": [
    "> Use a model to infer the total causal influence of `area` on `weight`. Would increasing the area available to each fox make it heavier (healthier)? You might want to standardize the variables. Regardless, use prior predictive simulation to show that your model’s prior predictions stay within the possible outcome range."
   ]
  },
  {
   "cell_type": "markdown",
   "metadata": {},
   "source": [
    "Like the prompt suggests, we start by standardizing the appropriate variables."
   ]
  },
  {
   "cell_type": "code",
   "execution_count": null,
   "metadata": {},
   "outputs": [],
   "source": [
    "features = ['avgfood', 'groupsize', 'area', 'weight']\n",
    "foxes[features] = preprocessing.scale(foxes[features])"
   ]
  },
  {
   "cell_type": "markdown",
   "metadata": {},
   "source": [
    "Now, we think about setting our priors in a way that makes sense."
   ]
  },
  {
   "cell_type": "code",
   "execution_count": null,
   "metadata": {},
   "outputs": [],
   "source": [
    "with pm.Model() as model1:\n",
    "    \n",
    "    # data\n",
    "    weight = foxes['weight']\n",
    "    group = foxes['group']\n",
    "    avgfood = foxes['avgfood']\n",
    "    groupsize = foxes['groupsize']\n",
    "    area = foxes['area']\n",
    "    \n",
    "    # priors\n",
    "    alpha = pm.Normal('alpha', 0, 10)\n",
    "    b_area = pm.Normal('b_area', 0, 10)\n",
    "    b_avgfood = pm.Normal('b_avgfood', 0, 10)\n",
    "    sigma = pm.Exponential('sigma', 1)\n",
    "    \n",
    "    # model\n",
    "    mu = alpha + b_area * area + b_avgfood * avgfood\n",
    "    weight_hat = pm.Normal('weight_hat', mu = mu, sigma = sigma, observed = weight)\n",
    "    \n",
    "    # sampling stuff\n",
    "    prior = pm.sample_prior_predictive() # a bunch of draws from the prior for each param\n",
    "    posterior1 = pm.sample(draws = 1000, tune = 1000)\n",
    "    posterior_predictive1 = pm.sample_posterior_predictive(posterior1)"
   ]
  },
  {
   "cell_type": "code",
   "execution_count": null,
   "metadata": {},
   "outputs": [],
   "source": [
    "prior_predictive1 = prior['weight_hat']"
   ]
  },
  {
   "cell_type": "code",
   "execution_count": null,
   "metadata": {},
   "outputs": [],
   "source": [
    "fig = go.Figure()\n",
    "\n",
    "for draw in range(prior_predictive1.shape[0]):\n",
    "    fig.add_trace(\n",
    "        go.Scatter(\n",
    "            x = foxes['area'],\n",
    "            y = prior_predictive1[draw, :],\n",
    "            mode = 'lines'\n",
    "        )\n",
    "    )\n",
    "    \n",
    "fig.update_layout(showlegend = False)\n",
    "fig.show()"
   ]
  },
  {
   "cell_type": "code",
   "execution_count": null,
   "metadata": {},
   "outputs": [],
   "source": []
  }
 ],
 "metadata": {
  "kernelspec": {
   "display_name": "Python 3",
   "language": "python",
   "name": "python3"
  },
  "language_info": {
   "codemirror_mode": {
    "name": "ipython",
    "version": 3
   },
   "file_extension": ".py",
   "mimetype": "text/x-python",
   "name": "python",
   "nbconvert_exporter": "python",
   "pygments_lexer": "ipython3",
   "version": "3.7.4"
  },
  "varInspector": {
   "cols": {
    "lenName": 16,
    "lenType": 16,
    "lenVar": 40
   },
   "kernels_config": {
    "python": {
     "delete_cmd_postfix": "",
     "delete_cmd_prefix": "del ",
     "library": "var_list.py",
     "varRefreshCmd": "print(var_dic_list())"
    },
    "r": {
     "delete_cmd_postfix": ") ",
     "delete_cmd_prefix": "rm(",
     "library": "var_list.r",
     "varRefreshCmd": "cat(var_dic_list()) "
    }
   },
   "types_to_exclude": [
    "module",
    "function",
    "builtin_function_or_method",
    "instance",
    "_Feature"
   ],
   "window_display": false
  }
 },
 "nbformat": 4,
 "nbformat_minor": 2
}
